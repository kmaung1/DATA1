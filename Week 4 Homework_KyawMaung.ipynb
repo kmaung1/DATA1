{
 "cells": [
  {
   "cell_type": "markdown",
   "id": "fa3517b6",
   "metadata": {},
   "source": [
    "# Week 4 Homework"
   ]
  },
  {
   "cell_type": "code",
   "execution_count": null,
   "id": "8c615ae5",
   "metadata": {},
   "outputs": [],
   "source": [
    "# Write your name here\n",
    "'''\n",
    "Kyaw Maung\n",
    "\n",
    "'''"
   ]
  },
  {
   "cell_type": "code",
   "execution_count": null,
   "id": "2503b3f9",
   "metadata": {},
   "outputs": [],
   "source": [
    "'''\n",
    "In this homework, you will be using pandas + matplotlib to manipulate and plot data in various formats.\n",
    "To make it easier to start, first program, a line chart, has already been created for you.\n",
    "\n",
    "First, download about two months of stock data for META from\n",
    "https://finance.yahoo.com/quote/META/history/\n",
    "Try to get the most recent, 2022 data and download in either CSV or XLSX format.\n",
    "\n",
    "Now read the following cells to see what you need to do. Even the given program has to be improved \n",
    "in its functioning. \n",
    "\n",
    "Once you are done with this homework, upload the ipynb file to Blackboard\n",
    "'''"
   ]
  },
  {
   "cell_type": "code",
   "execution_count": 18,
   "id": "90825220",
   "metadata": {},
   "outputs": [],
   "source": [
    "# Import and setup libraries\n",
    "import pandas as pd\n",
    "import matplotlib.pyplot as plt"
   ]
  },
  {
   "cell_type": "code",
   "execution_count": 21,
   "id": "c29327ff",
   "metadata": {},
   "outputs": [
    {
     "name": "stdout",
     "output_type": "stream",
     "text": [
      "Data is starting from:          Date\n",
      "1  2022-07-26\n"
     ]
    }
   ],
   "source": [
    "# Read the csv file and pick the first and the last date\n",
    "df = pd.read_csv(\"Meta.csv\")\n",
    "start_date = df.iloc[[1],[0]]\n",
    "end_date = df.iloc[[-1],[0]]\n",
    "print('Data is starting from:',start_date)"
   ]
  },
  {
   "cell_type": "code",
   "execution_count": 24,
   "id": "a676332b",
   "metadata": {},
   "outputs": [
    {
     "data": {
      "text/plain": [
       "'2022-09-23'"
      ]
     },
     "execution_count": 24,
     "metadata": {},
     "output_type": "execute_result"
    }
   ],
   "source": [
    "# Notice that the above does not give you just the date, it comes back as a dataframe. A better way is\n",
    "df[\"Date\"].values[-1]"
   ]
  },
  {
   "cell_type": "code",
   "execution_count": null,
   "id": "6847f0d3",
   "metadata": {},
   "outputs": [],
   "source": [
    "'''\n",
    "Other methods of data import\n",
    "pd.read_csv(filename)\n",
    "pd.read_excel(filename)\n",
    "pd.read_json(json_string)\n",
    "pd.read_html(url)\n",
    "etc\n",
    "'''"
   ]
  },
  {
   "cell_type": "code",
   "execution_count": null,
   "id": "09dccb37",
   "metadata": {},
   "outputs": [],
   "source": [
    "# check the data inside\n",
    "df.head()"
   ]
  },
  {
   "cell_type": "code",
   "execution_count": null,
   "id": "3bff2509",
   "metadata": {},
   "outputs": [],
   "source": [
    "'''\n",
    "Other functions for Exploring Data\n",
    "df.shape()\n",
    "df.head(n)\n",
    "df.tail(n)\n",
    "df.info()\n",
    "df.describe()\n",
    "df.mean()\n",
    "df.corr()\n",
    "df.count()\n",
    "df.max()\n",
    "df.min()\n",
    "df.median()\n",
    "df.std()\n",
    "'''"
   ]
  },
  {
   "cell_type": "code",
   "execution_count": 17,
   "id": "2e373af4",
   "metadata": {},
   "outputs": [],
   "source": [
    "plt.suptitle('Stock prices of Meta', fontsize=18, color='black')\n",
    "# Please add xlable\n",
    "# also add ylabel\n",
    "# Plot any one column at a time.\n",
    "df['Close'].plot(color='green');\n",
    "plt.show()\n",
    "\n",
    "# try changing the color, and column."
   ]
  },
  {
   "cell_type": "code",
   "execution_count": null,
   "id": "08295763",
   "metadata": {},
   "outputs": [],
   "source": [
    "# Plot first three columns at the same time, in different colors\n",
    "'''\n",
    "Your code goes here\n",
    "\n",
    "\n",
    "'''"
   ]
  },
  {
   "cell_type": "code",
   "execution_count": null,
   "id": "890da0d7",
   "metadata": {},
   "outputs": [],
   "source": [
    "'''\n",
    "Using the above example as the starting point, write programs to create a\n",
    "1. Line plot of the opening, closing stock prices of Meta between two specific dates. \n",
    "   Next, improve the above program so that the dates can be specified by the user at command line\n",
    "2. Bar plot of the trading volume between two specific dates. \n",
    "3. Histograms plot of opening, closing, high, low stock prices of Meta \n",
    "4. Stacked histograms plot of opening, closing, high, low stock prices\n",
    "5. Scatter plot of the trading volume/stock prices of Meta \n",
    "'''"
   ]
  },
  {
   "cell_type": "code",
   "execution_count": null,
   "id": "fdf83517",
   "metadata": {},
   "outputs": [],
   "source": []
  },
  {
   "cell_type": "code",
   "execution_count": null,
   "id": "b5a7537f",
   "metadata": {},
   "outputs": [],
   "source": []
  },
  {
   "cell_type": "code",
   "execution_count": null,
   "id": "d9e6b564",
   "metadata": {},
   "outputs": [],
   "source": []
  }
 ],
 "metadata": {
  "kernelspec": {
   "display_name": "Python 3 (ipykernel)",
   "language": "python",
   "name": "python3"
  },
  "language_info": {
   "codemirror_mode": {
    "name": "ipython",
    "version": 3
   },
   "file_extension": ".py",
   "mimetype": "text/x-python",
   "name": "python",
   "nbconvert_exporter": "python",
   "pygments_lexer": "ipython3",
   "version": "3.9.12"
  }
 },
 "nbformat": 4,
 "nbformat_minor": 5
}
